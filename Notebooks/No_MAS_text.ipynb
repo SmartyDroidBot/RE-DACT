{
 "cells": [
  {
   "cell_type": "code",
   "execution_count": 2,
   "metadata": {},
   "outputs": [
    {
     "name": "stdout",
     "output_type": "stream",
     "text": [
      "[{'entity_group': 'FIRSTNAME', 'score': 0.95468575, 'word': ' John', 'start': 10, 'end': 15}, {'entity_group': 'STATE', 'score': 0.98806274, 'word': ' California.', 'start': 29, 'end': 41}]\n"
     ]
    },
    {
     "name": "stderr",
     "output_type": "stream",
     "text": [
      "d:\\Projects\\SIH\\RE-DACT\\.venv\\Lib\\site-packages\\transformers\\pipelines\\token_classification.py:392: UserWarning: Tokenizer does not support real words, using fallback heuristic\n",
      "  warnings.warn(\n"
     ]
    }
   ],
   "source": [
    "from transformers import pipeline, AutoTokenizer, AutoModelForTokenClassification\n",
    "\n",
    "# Load the tokenizer and model from the local directory\n",
    "model_path = r'D:\\Projects\\SIH\\RE-DACT\\redact\\app\\services\\deberta_finetuned_pii'  # Fix this path thingy according to your convenience\n",
    "\n",
    "tokenizer = AutoTokenizer.from_pretrained(model_path)\n",
    "model = AutoModelForTokenClassification.from_pretrained(model_path)\n",
    "\n",
    "# Create the pipeline with your local model\n",
    "gen = pipeline(\"token-classification\", model=model, tokenizer=tokenizer, aggregation_strategy=\"first\")\n",
    "\n",
    "text = \"My name is John and I live in California.\"\n",
    "output = gen(text)\n",
    "\n",
    "print(output)"
   ]
  },
  {
   "cell_type": "code",
   "execution_count": 4,
   "metadata": {},
   "outputs": [
    {
     "name": "stdout",
     "output_type": "stream",
     "text": [
      "[{'entity_group': 'FIRSTNAME', 'score': 0.95468575, 'word': ' John', 'start': 10, 'end': 15, 'tag': 2}, {'entity_group': 'STATE', 'score': 0.98806274, 'word': ' California.', 'start': 29, 'end': 41, 'tag': 2}]\n"
     ]
    }
   ],
   "source": [
    "def tag_model_output(model_output):\n",
    "    \"\"\"\n",
    "    Returns:\n",
    "    list: A list of dictionaries with an additional 'tag' key indicating the level.\n",
    "    \"\"\"\n",
    "    level_1 = {\n",
    "        \"SSN\", \"CREDITCARDNUMBER\", \"CREDITCARDCVV\", \"PASSWORD\", \"IP\", \"MAC\",\n",
    "        \"BITCOINADDRESS\", \"ETHEREUMADDRESS\", \"LITECOINADDRESS\", \"ACCOUNTNUMBER\",\n",
    "        \"IBAN\", \"BIC\"\n",
    "    }\n",
    "    \n",
    "    level_2 = {\n",
    "        \"FIRSTNAME\", \"LASTNAME\", \"FULLNAME\", \"NAME\", \"EMAIL\", \"PHONE_NUMBER\",\n",
    "        \"STREETADDRESS\", \"CITY\", \"ZIPCODE\", \"STATE\", \"COUNTRY\", \"JOBTITLE\",\n",
    "        \"COMPANY_NAME\", \"USERNAME\"\n",
    "    }\n",
    "    \n",
    "    level_3 = {\n",
    "        \"PREFIX\", \"MIDDLENAME\", \"SUFFIX\", \"JOBDESCRIPTOR\", \"JOBAREA\",\n",
    "        \"SECONDARYADDRESS\", \"COUNTY\", \"CURRENCY\", \"CURRENCYSYMBOL\",\n",
    "        \"CURRENCYCODE\", \"USERAGENT\", \"SEX\", \"GENDER\", \"NEARBYGPSCOORDINATE\",\n",
    "        \"DISPLAYNAME\", \"SEXTYPE\", \"ORDINALDIRECTION\"\n",
    "    }\n",
    "    \n",
    "    def tag_word(word):\n",
    "        if word in level_1:\n",
    "            return 1\n",
    "        elif word in level_2:\n",
    "            return 2\n",
    "        elif word in level_3:\n",
    "            return 3\n",
    "        else:\n",
    "            return 999  # Default to level 9 for all other items not classified\n",
    "\n",
    "    for entity in model_output:\n",
    "        entity['tag'] = tag_word(entity['entity_group'])\n",
    "    \n",
    "    return model_output\n",
    "\n",
    "# Example usage\n",
    "tagged_output = tag_model_output(output)\n",
    "print(tagged_output)"
   ]
  },
  {
   "cell_type": "code",
   "execution_count": 5,
   "metadata": {},
   "outputs": [
    {
     "name": "stdout",
     "output_type": "stream",
     "text": [
      "{'Mark': 2, 'Davis,': 3, 'July 22, 1984,': 999, '456 Oakwood Avenue,': 2, 'Dallas,': 2, 'TX': 2, '75201.': 2, 'Crescent Media Group.': 2, 'mark.davis@crescentmedia.com,': 2, '(214) 987-6543.': 2}\n"
     ]
    }
   ],
   "source": [
    "def classify_and_tag_text(input_text):\n",
    "    # Returns a dictionary with words as keys and their corresponding tags as values.\n",
    "    classified_entities = gen(input_text)\n",
    "    tagged_entities = tag_model_output(classified_entities)\n",
    "    word_tag_dict = {entity['word'].strip(): entity['tag'] for entity in tagged_entities}\n",
    "    return word_tag_dict\n",
    "\n",
    "# Example usage\n",
    "example_text = \"Mark Davis, born on July 22, 1984, currently resides at 456 Oakwood Avenue, Dallas, TX 75201. He works as a marketing manager at Crescent Media Group. His email is mark.davis@crescentmedia.com, and his phone number is (214) 987-6543. \"\n",
    "word_tag_mapping = classify_and_tag_text(example_text)\n",
    "print(word_tag_mapping)"
   ]
  },
  {
   "cell_type": "code",
   "execution_count": 6,
   "metadata": {},
   "outputs": [
    {
     "name": "stdout",
     "output_type": "stream",
     "text": [
      "Word Tag Mapping: {'Mark': 2, 'Davis,': 3, 'July 22, 1984,': 999, '456 Oakwood Avenue,': 2, 'Dallas,': 2, 'TX': 2, '75201.': 2, 'Crescent Media Group.': 2, 'mark.davis@crescentmedia.com,': 2, '(214) 987-6543.': 2}\n",
      "■■■■■ Davis, born on July 22, 1984, currently resides at 456 Oakwood Avenue, ■■■■■ ■■■■■ ■■■■■ He works as a marketing manager at Crescent Media Group. His email is ■■■■■ and his phone number is (214) 987-6543.\n",
      "■■■■■ ■■■■■ born on July 22, 1984, currently resides at 456 Oakwood Avenue, ■■■■■ ■■■■■ ■■■■■ He works as a marketing manager at Crescent Media Group. His email is ■■■■■ and his phone number is (214) 987-6543.\n"
     ]
    }
   ],
   "source": [
    "def redact_text(input_text, level):\n",
    "    # Redacts words in the input text based on the specified classification level.\n",
    "    \n",
    "    # Args:\n",
    "    # input_text (str): The text to be classified and redacted.\n",
    "    # level (int): The classification level (1, 2, or 3).\n",
    "    \n",
    "    # Returns: str: The redacted text.\n",
    "    # Classify and tag the text\n",
    "    word_tag_mapping = classify_and_tag_text(input_text)\n",
    "    \n",
    "    # Split the input text into words\n",
    "    words = input_text.split()\n",
    "    \n",
    "    # Redact words based on the specified level\n",
    "    redacted_words = [\n",
    "        '■■■■■' if word_tag_mapping.get(word.strip(), 4) <= level else word\n",
    "        for word in words\n",
    "    ]\n",
    "    \n",
    "    # Join the redacted words back into a single string\n",
    "    redacted_text = ' '.join(redacted_words)\n",
    "    \n",
    "    return redacted_text\n",
    "\n",
    "# Example usage\n",
    "redacted_text_level_2 = redact_text(example_text, 2)\n",
    "print(\"Word Tag Mapping:\", word_tag_mapping)\n",
    "print(redacted_text_level_2)\n",
    "\n",
    "redacted_text_level_3 = redact_text(example_text, 3)\n",
    "print(redacted_text_level_3)"
   ]
  },
  {
   "cell_type": "code",
   "execution_count": 7,
   "metadata": {},
   "outputs": [
    {
     "name": "stdout",
     "output_type": "stream",
     "text": [
      "Word Tag Mapping: {'Mark': 2, 'Davis,': 3, 'July 22, 1984,': 999, '456 Oakwood Avenue,': 2, 'Dallas,': 2, 'TX': 2, '75201.': 2, 'Crescent Media Group.': 2, 'mark.davis@crescentmedia.com,': 2, '(214) 987-6543.': 2}\n",
      "■■■■■ Davis, born on July 22, 1984, currently resides at ■■■■■■■■■■■■■■■ ■■■■■ ■■■■■ ■■■■■ He works as a marketing manager at ■■■■■■■■■■■■■■■ His email is ■■■■■ and his phone number is ■■■■■■■■■■\n",
      "■■■■■ ■■■■■ born on July 22, 1984, currently resides at ■■■■■■■■■■■■■■■ ■■■■■ ■■■■■ ■■■■■ He works as a marketing manager at ■■■■■■■■■■■■■■■ His email is ■■■■■ and his phone number is ■■■■■■■■■■\n",
      "Mark Davis, born on July 22, 1984, currently resides at 456 Oakwood Avenue, Dallas, TX 75201. He works as a marketing manager at Crescent Media Group. His email is mark.davis@crescentmedia.com, and his phone number is (214) 987-6543.\n"
     ]
    }
   ],
   "source": [
    "def redact_text(input_text, level):\n",
    "    # Classify and tag the text\n",
    "    word_tag_mapping = classify_and_tag_text(input_text)\n",
    "    \n",
    "    # Initialize variables\n",
    "    words = input_text.split()\n",
    "    redacted_words = []\n",
    "    i = 0\n",
    "    \n",
    "    # Iterate through the words\n",
    "    while i < len(words):\n",
    "        word = words[i]\n",
    "        # Check for multi-word entities\n",
    "        for entity, tag in word_tag_mapping.items():\n",
    "            entity_words = entity.split()\n",
    "            if words[i:i+len(entity_words)] == entity_words:\n",
    "                if tag <= level:\n",
    "                    redacted_words.append('■■■■■' * len(entity_words))\n",
    "                else:\n",
    "                    redacted_words.extend(entity_words)\n",
    "                i += len(entity_words) - 1\n",
    "                break\n",
    "        else:\n",
    "            # If no multi-word entity is found, process the single word\n",
    "            if word_tag_mapping.get(word.strip(), 4) <= level:\n",
    "                redacted_words.append('■■■■■')\n",
    "            else:\n",
    "                redacted_words.append(word)\n",
    "        i += 1\n",
    "    \n",
    "    # Join the redacted words back into a single string\n",
    "    redacted_text = ' '.join(redacted_words)\n",
    "    \n",
    "    return redacted_text\n",
    "\n",
    "# Example usage\n",
    "redacted_text_level_2 = redact_text(example_text, 2)\n",
    "print(\"Word Tag Mapping:\", classify_and_tag_text(example_text))\n",
    "print(redacted_text_level_2)\n",
    "\n",
    "redacted_text_level_3 = redact_text(example_text, 3)\n",
    "print(redacted_text_level_3)\n",
    "\n",
    "redacted_text_level_1 = redact_text(example_text, 1)\n",
    "print(redacted_text_level_1)"
   ]
  }
 ],
 "metadata": {
  "kernelspec": {
   "display_name": ".venv",
   "language": "python",
   "name": "python3"
  },
  "language_info": {
   "codemirror_mode": {
    "name": "ipython",
    "version": 3
   },
   "file_extension": ".py",
   "mimetype": "text/x-python",
   "name": "python",
   "nbconvert_exporter": "python",
   "pygments_lexer": "ipython3",
   "version": "3.12.5"
  }
 },
 "nbformat": 4,
 "nbformat_minor": 2
}
